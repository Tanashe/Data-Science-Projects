{
 "cells": [
  {
   "cell_type": "code",
   "execution_count": null,
   "metadata": {},
   "outputs": [],
   "source": [
    "# Load CSV files into DataFrames\n",
    "df1 = pd.read_csv(\"data/mexico-real-estate-1.csv\")\n",
    "df2 = pd.read_csv(\"data/mexico-real-estate-2.csv\")\n",
    "df3 = pd.read_csv(\"data/mexico-real-estate-3.csv\")\n",
    "\n",
    "# Print object type and shape for DataFrames\n",
    "print(\"df1 type:\", type(df1))\n",
    "print(\"df1 shape:\", df1.shape)\n",
    "print()\n",
    "print(\"df2 type:\", type(df2))\n",
    "print(\"df2 shape:\", df2.shape)\n",
    "print()\n",
    "print(\"df3 type:\", type(df3))\n",
    "print(\"df3 shape:\", df3.shape)"
   ]
  },
  {
   "cell_type": "code",
   "execution_count": null,
   "metadata": {},
   "outputs": [],
   "source": [
    "# Drop null values from df1\n",
    "df1.dropna(inplace=True)\n",
    "\n",
    "\n",
    "# Clean \"price_usd\" column in df1\n",
    "df1[\"price_usd\"] = (\n",
    "    df1[\"price_usd\"]\n",
    "    .str.replace(\"$\", \"\", regex=True)\n",
    "    .str.replace(\",\", \"\")\n",
    "    .astype(float)\n",
    ")\n",
    "\n",
    "df1.head()\n"
   ]
  },
  {
   "cell_type": "code",
   "execution_count": null,
   "metadata": {},
   "outputs": [],
   "source": [
    "# Drop null values from df2\n",
    "df2.dropna(inplace=True)\n",
    "\n",
    "\n",
    "# Create \"price_usd\" column for df2 (19 pesos to the dollar in 2014)\n",
    "df2[\"price_usd\"] = (df2[\"price_mxn\"]/19).round(2)\n",
    "\n",
    "#Remove the column 'price_mxn'\n",
    "df2.drop(columns=[\"price_mxn\"], inplace=True)\n",
    "\n",
    "df2.head()"
   ]
  },
  {
   "cell_type": "code",
   "execution_count": null,
   "metadata": {},
   "outputs": [],
   "source": [
    "# Drop null values from df3\n",
    "df3.dropna(inplace=True)\n",
    "\n",
    "# Create \"lat\" and \"lon\" columns for df3\n",
    "df3[[\"lat\", \"lon\"]] = df3[\"lat-lon\"].str.split(\",\", expand=True)\n",
    "\n",
    "df3.head()"
   ]
  },
  {
   "cell_type": "code",
   "execution_count": null,
   "metadata": {},
   "outputs": [],
   "source": [
    "# Create \"state\" column for df3\n",
    "df3[\"state\"] = df3[\"place_with_parent_names\"].str.split(\"|\", expand=True)[2]\n",
    "\n",
    "# Drop \"place_with_parent_names\" and \"lat-lon\" from df3\n",
    "df3.drop(columns=[\"place_with_parent_names\", \"lat-lon\"], inplace=True)\n",
    "\n",
    "df3.head()"
   ]
  },
  {
   "cell_type": "code",
   "execution_count": null,
   "metadata": {},
   "outputs": [],
   "source": [
    "# Concatenate df1, df2, and df3\n",
    "df = pd.concat([df1, df2, df3])\n",
    "print(df.shape)\n",
    "\n",
    "df.head()"
   ]
  },
  {
   "cell_type": "code",
   "execution_count": null,
   "metadata": {},
   "outputs": [],
   "source": [
    "# Save df\n",
    "df.to_csv(\"./data/mexico-real-estate-clean.csv\", index=False)"
   ]
  },
  {
   "cell_type": "code",
   "execution_count": null,
   "metadata": {},
   "outputs": [],
   "source": [
    "# Import \"data/mexico-real-estate-clean.csv\"\n",
    "df = pd.read_csv(\"data/Mexico-real-estate-clean.csv\")\n",
    "\n",
    "df.head()"
   ]
  },
  {
   "cell_type": "code",
   "execution_count": null,
   "metadata": {},
   "outputs": [],
   "source": [
    "# Use plotly express to create figure\n",
    "\n",
    "fig = px.scatter_mapbox(\n",
    "    df,  # Our DataFrame\n",
    "    lat= \"lat\",\n",
    "    lon= \"lon\",\n",
    "    center={\"lat\": 19.43, \"lon\": -99.13},  # Map will be centered on Mexico City\n",
    "    width=600,  # Width of map\n",
    "    height=600,  # Height of map\n",
    "    hover_data=[\"price_usd\", \"state\"],  # Display price when hovering mouse over house\n",
    ")\n",
    "\n",
    "# Add mapbox_style to figure layout\n",
    "fig.update_layout(mapbox_style=\"open-street-map\")\n",
    "\n",
    "# Show figure\n",
    "fig.show()"
   ]
  },
  {
   "cell_type": "code",
   "execution_count": null,
   "metadata": {},
   "outputs": [],
   "source": [
    "# Get value counts of \"state\" column\n",
    "df[\"state\"].value_counts().head(10)"
   ]
  },
  {
   "cell_type": "code",
   "execution_count": null,
   "metadata": {},
   "outputs": [],
   "source": [
    "# Describe \"area_m2\", \"price_usd\" columns\n",
    "df[[\"area_m2\" , \"price_usd\",]].describe()"
   ]
  },
  {
   "cell_type": "code",
   "execution_count": null,
   "metadata": {},
   "outputs": [],
   "source": [
    "# Use Matplotlib to create histogram of \"area_m2\"\n",
    "plt.hist(df[\"area_m2\"])\n",
    "\n",
    "# Add x-axis label\n",
    "plt.xlabel(\"Area [sq meters]\")\n",
    "\n",
    "# Add y-axis label\n",
    "plt.ylabel(\"Frequency\")\n",
    "\n",
    "# Add title\n",
    "plt.title(\"Distribution of Home Sizes\")"
   ]
  },
  {
   "cell_type": "code",
   "execution_count": null,
   "metadata": {},
   "outputs": [],
   "source": [
    "# Use Matplotlib to create boxplot of \"area_m2\"\n",
    "plt.boxplot(df[\"area_m2\"], vert=False)\n",
    "\n",
    "# Add x-axis label\n",
    "plt.xlabel(\"area [sq_meters]\")\n",
    "\n",
    "# Add title\n",
    "plt.title(\"Distribution of homes sizes\")"
   ]
  },
  {
   "cell_type": "code",
   "execution_count": null,
   "metadata": {},
   "outputs": [],
   "source": [
    "# Use Matplotlib to create histogram of \"price_usd\"\n",
    "plt.hist(df[\"price_usd\"])\n",
    "\n",
    "# Add x-axis label\n",
    "plt.xlabel(\"Price [USD]\")\n",
    "\n",
    "# Add y-axis label\n",
    "plt.ylabel(\"Frequency\")\n",
    "\n",
    "# Add title\n",
    "plt.title(\"Distribution of home prices\")"
   ]
  },
  {
   "cell_type": "code",
   "execution_count": null,
   "metadata": {},
   "outputs": [],
   "source": [
    "# Use Matplotlib to create boxplot of \"price_usd\"\n",
    "plt.boxplot(df[\"price_usd\"], vert=False)\n",
    "\n",
    "# Add x-label axis\n",
    "plt.xlabel(\"Price [USD]\")\n",
    "\n",
    "\n",
    "# Add y-label axis"
   ]
  },
  {
   "cell_type": "code",
   "execution_count": null,
   "metadata": {},
   "outputs": [],
   "source": [
    "# Declare variable `mean_price_by_state`\n",
    "#df.groupby(\"state\")[\"price_usd\"].mean().sort_values(ascending=False).round(2)\n",
    "mean_price_by_state = df.groupby(\"state\")[\"price_usd\"].mean().sort_values(ascending=False).round(2)\n",
    "\n",
    "# Print object type, shape, and head\n",
    "print(\"mean_price_by_state type:\", type(mean_price_by_state))\n",
    "print(\"mean_price_by_state shape:\", mean_price_by_state.shape)\n",
    "mean_price_by_state.head()"
   ]
  },
  {
   "cell_type": "code",
   "execution_count": null,
   "metadata": {},
   "outputs": [],
   "source": [
    "# Create bar chart from `mean_price_by_state` using pandas\n",
    "mean_price_by_state.plot(\n",
    "    kind=\"bar\",\n",
    "    xlabel=\"State\",\n",
    "    ylabel=\"Price [USD]\",\n",
    "    title=\"Mean house price by state\"\n",
    ")\n"
   ]
  },
  {
   "cell_type": "code",
   "execution_count": null,
   "metadata": {},
   "outputs": [],
   "source": [
    "# Create \"price_per_m2\" column\n",
    "df[\"price_per_m2\"] = df[\"price_usd\"] / df[\"area_m2\"]\n",
    "\n",
    "# Print object type, shape, and head\n",
    "print(\"df type:\", type(df))\n",
    "print(\"df shape:\", df.shape)\n",
    "df.head()"
   ]
  },
  {
   "cell_type": "code",
   "execution_count": null,
   "metadata": {},
   "outputs": [],
   "source": [
    "# Group `df` by \"state\", create bar chart of \"price_per_m2\"\n",
    "(\n",
    "    df.groupby(\"state\")[\"price_per_m2\"].mean().sort_values(ascending=False)\n",
    "    .plot(\n",
    "        kind=\"bar\",\n",
    "        xlabel=\"State\",\n",
    "        ylabel=\"Mean Pric per M^2 [USD]\",\n",
    "        title=\"Mean house price per M^2by state\"\n",
    "    )\n",
    ")"
   ]
  },
  {
   "cell_type": "code",
   "execution_count": null,
   "metadata": {},
   "outputs": [],
   "source": [
    "# Create scatter plot of \"price_usd\" vs \"area_m2\"\n",
    "plt.scatter(x=df[\"area_m2\"], y=df[\"price_usd\"])\n",
    "\n",
    "# Add x-axis label\n",
    "plt.xlabel = \"Area [sq meters]\",\n",
    "\n",
    "# Add y-axis label\n",
    "plt.ylabel = \"price [USD]\"\n",
    "\n",
    "\n",
    "# Add title\n",
    "plt.tilte = \"Price vs Size\"\n"
   ]
  },
  {
   "cell_type": "code",
   "execution_count": null,
   "metadata": {},
   "outputs": [],
   "source": [
    "# Calculate correlation of \"price_usd\" and \"area_m2\"\n",
    "p_correlation = df[\"area_m2\"].corr(df[\"price_usd\"])\n",
    "\n",
    "# Print correlation coefficient\n",
    "#print(\"Correlation of 'area_m2' and 'price_usd' (all Mexico):\", p_correlation)\n",
    "print(p_correlation)"
   ]
  },
  {
   "cell_type": "code",
   "execution_count": null,
   "metadata": {},
   "outputs": [],
   "source": [
    "# Declare variable `df_morelos` by subsetting `df`\n",
    "df_morelos = df[df[\"state\"] == \"Morelos\"]\n",
    "\n",
    "# Print object type, shape, and head\n",
    "print(\"df_morelos type:\", type(df_morelos))\n",
    "print(\"df_morelos shape:\", df_morelos.shape)\n",
    "df_morelos.head()"
   ]
  },
  {
   "cell_type": "code",
   "execution_count": null,
   "metadata": {},
   "outputs": [],
   "source": [
    "# Create scatter plot of \"price_usd\" vs \"area_m2\" in Morelos\n",
    "plt.scatter(x=df_morelos[\"area_m2\"], y=df_morelos[\"price_usd\"])\n"
   ]
  },
  {
   "cell_type": "code",
   "execution_count": null,
   "metadata": {},
   "outputs": [],
   "source": [
    "# Calculate correlation of \"price_usd\" and \"area_m2\" in `df_morelos`\n",
    "p_correlation = df_morelos[\"area_m2\"].corr(df_morelos[\"price_usd\"])\n",
    "\n",
    "# Print correlation coefficient\n",
    "print(\"Correlation of 'area_m2' and 'price_usd' (Morelos):\", p_correlation)"
   ]
  },
  {
   "cell_type": "code",
   "execution_count": null,
   "metadata": {},
   "outputs": [],
   "source": [
    "# Declare variable `df_mexico_city` by subsetting `df`\n",
    "df_mexico_city = ...\n",
    "\n",
    "# Print object type and shape\n",
    "print(\"df_mexico_city type:\", type(df_mexico_city))\n",
    "print(\"df_mexico_city shape:\", df_mexico_city.shape)\n",
    "\n",
    "# Create a scatter plot \"price_usd\" vs \"area_m2\" in Distrito Federal\n",
    "plt.scatter(df_mexico_city[\"area_m2\"], df_mexico_city[\"price_usd\"])  # REMOVERHS\n",
    "\n",
    "# Add x-axis label\n",
    "plt.xlabel(\"Area [sq meters]\")  # REMOVERHS\n",
    "\n",
    "# Add y-axis label\n",
    "plt.ylabel(\"Price [USD]\")  # REMOVERHS\n",
    "\n",
    "# Add title\n",
    "plt.title(\"Mexico City: Price vs. Area\")  # REMOVERHS\n",
    "\n",
    "# Calculate correlation of \"price_usd\" and \"area_m2\" in `df_mexico_city`\n",
    "p_correlation = ...\n",
    "\n",
    "# Print correlation coefficient\n",
    "print(\"Correlation of 'area_m2' and 'price_usd' (Mexico City):\", p_correlation)"
   ]
  },
  {
   "cell_type": "code",
   "execution_count": null,
   "metadata": {},
   "outputs": [],
   "source": [
    "Looking at the scatter plot and correlation coefficient, there's see a weak relationship between size and price. How should we interpret this?\n",
    "\n",
    "One interpretation is that the relationship we see between size and price in many states doesn't hold true in the country's biggest and most economically powerful urban center because there are other factors that have a larger influence on price"
   ]
  }
 ],
 "metadata": {
  "kernelspec": {
   "display_name": "Python 3",
   "language": "python",
   "name": "python3"
  },
  "language_info": {
   "codemirror_mode": {
    "name": "ipython",
    "version": 3
   },
   "file_extension": ".py",
   "mimetype": "text/x-python",
   "name": "python",
   "nbconvert_exporter": "python",
   "pygments_lexer": "ipython3",
   "version": "3.8.5"
  }
 },
 "nbformat": 4,
 "nbformat_minor": 4
}
