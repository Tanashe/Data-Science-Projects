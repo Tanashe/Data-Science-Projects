{
 "cells": [
  {
   "cell_type": "code",
   "execution_count": null,
   "metadata": {},
   "outputs": [],
   "source": [
    "# Loading CSV files into DataFrames\n",
    "df1 = pd.read_csv(\"data/mexico-real-estate-1.csv\")\n",
    "df2 = pd.read_csv(\"data/mexico-real-estate-2.csv\")\n",
    "df3 = pd.read_csv(\"data/mexico-real-estate-3.csv\")\n",
    "\n",
    "# Printing object type and shape to have an overview of the data\n",
    "print(\"df1 type:\", type(df1))\n",
    "print(\"df1 shape:\", df1.shape)\n",
    "\n",
    "print(\"df2 type:\", type(df2))\n",
    "print(\"df2 shape:\", df2.shape)\n",
    "\n",
    "print(\"df3 type:\", type(df3))\n",
    "print(\"df3 shape:\", df3.shape)"
   ]
  },
  {
   "cell_type": "code",
   "execution_count": null,
   "metadata": {},
   "outputs": [],
   "source": [
    "# Deleting null values from df1\n",
    "df1.dropna(inplace=True)\n",
    "\n",
    "\n",
    "# Using replace to clean \"price_usd\" column in df1\n",
    "df1[\"price_usd\"] = (\n",
    "    df1[\"price_usd\"]\n",
    "    .str.replace(\"$\", \"\", regex=True)\n",
    "    .str.replace(\",\", \"\")\n",
    "    .astype(float)\n",
    ")\n",
    "\n",
    "df1.head()\n"
   ]
  },
  {
   "cell_type": "code",
   "execution_count": null,
   "metadata": {},
   "outputs": [],
   "source": [
    "# Deleting null values from df2\n",
    "df2.dropna(inplace=True)\n",
    "\n",
    "\n",
    "# Creating a new \"price_usd\" column for df2 (19 pesos to the dollar in 2014)\n",
    "df2[\"price_usd\"] = (df2[\"price_mxn\"]/19).round(2)\n",
    "\n",
    "#Deleting the column 'price_mxn'\n",
    "df2.drop(columns=[\"price_mxn\"], inplace=True)\n",
    "\n",
    "df2.head()"
   ]
  },
  {
   "cell_type": "code",
   "execution_count": null,
   "metadata": {},
   "outputs": [],
   "source": [
    "# Deleting null values from df3\n",
    "df3.dropna(inplace=True)\n",
    "\n",
    "# Splitting \"lat\" and \"lon\" columns for df3\n",
    "df3[[\"lat\", \"lon\"]] = df3[\"lat-lon\"].str.split(\",\", expand=True)\n",
    "\n",
    "df3.head()"
   ]
  },
  {
   "cell_type": "code",
   "execution_count": null,
   "metadata": {},
   "outputs": [],
   "source": [
    "# Creating a new \"state\" column for df3\n",
    "df3[\"state\"] = df3[\"place_with_parent_names\"].str.split(\"|\", expand=True)[2]\n",
    "\n",
    "# Deleting \"place_with_parent_names\" and \"lat-lon\" from df3 columns\n",
    "df3.drop(columns=[\"place_with_parent_names\", \"lat-lon\"], inplace=True)\n",
    "\n",
    "df3.head()"
   ]
  },
  {
   "cell_type": "code",
   "execution_count": null,
   "metadata": {},
   "outputs": [],
   "source": [
    "# Concatenate the cleaned datasets df1, df2, and df3 to one dataframe\n",
    "df = pd.concat([df1, df2, df3])\n",
    "print(df.shape)\n",
    "\n",
    "df.head()"
   ]
  },
  {
   "cell_type": "code",
   "execution_count": null,
   "metadata": {},
   "outputs": [],
   "source": [
    "# Save the new dataframe\n",
    "df.to_csv(\"./data/mexico-real-estate-clean.csv\", index=False)"
   ]
  },
  {
   "cell_type": "code",
   "execution_count": null,
   "metadata": {},
   "outputs": [],
   "source": [
    "# Import the new dataframe \"data/mexico-real-estate-clean.csv\"\n",
    "df = pd.read_csv(\"data/Mexico-real-estate-clean.csv\")\n",
    "\n",
    "df.head()"
   ]
  },
  {
   "cell_type": "code",
   "execution_count": null,
   "metadata": {},
   "outputs": [],
   "source": [
    "# Using plotly express to create figure\n",
    "\n",
    "fig = px.scatter_mapbox(\n",
    "    df,  # Our DataFrame\n",
    "    lat= \"lat\",\n",
    "    lon= \"lon\",\n",
    "    center={\"lat\": 19.43, \"lon\": -99.13},  # the Map will be centered on Mexico City\n",
    "    width=600,  # Width of map\n",
    "    height=600,  # Height of map\n",
    "    hover_data=[\"price_usd\", \"state\"],  # Displays price when hovering mouse over house\n",
    ")\n",
    "\n",
    "# Adding mapbox_style to figure layout\n",
    "fig.update_layout(mapbox_style=\"open-street-map\")\n",
    "\n",
    "# Show the figure\n",
    "fig.show()"
   ]
  },
  {
   "cell_type": "code",
   "execution_count": null,
   "metadata": {},
   "outputs": [],
   "source": [
    "# Getting the value counts of \"state\" column\n",
    "df[\"state\"].value_counts().head(10)"
   ]
  },
  {
   "cell_type": "code",
   "execution_count": null,
   "metadata": {},
   "outputs": [],
   "source": [
    "# Describing \"area_m2\", \"price_usd\" columns\n",
    "df[[\"area_m2\" , \"price_usd\",]].describe()"
   ]
  },
  {
   "cell_type": "code",
   "execution_count": null,
   "metadata": {},
   "outputs": [],
   "source": [
    "# Using Matplotlib to create histogram of \"area_m2\"\n",
    "plt.hist(df[\"area_m2\"])\n",
    "plt.xlabel(\"Area [sq meters]\")\n",
    "plt.ylabel(\"Frequency\")\n",
    "plt.title(\"Distribution of Home Sizes\")"
   ]
  },
  {
   "cell_type": "code",
   "execution_count": null,
   "metadata": {},
   "outputs": [],
   "source": [
    "# Using Matplotlib to create boxplot of \"area_m2\"\n",
    "plt.boxplot(df[\"area_m2\"], vert=False)\n",
    "plt.xlabel(\"area [sq_meters]\")\n",
    "plt.title(\"Distribution of homes sizes\")"
   ]
  },
  {
   "cell_type": "code",
   "execution_count": null,
   "metadata": {},
   "outputs": [],
   "source": [
    "# Using Matplotlib to create histogram of \"price_usd\"\n",
    "plt.hist(df[\"price_usd\"])\n",
    "plt.xlabel(\"Price [USD]\")\n",
    "plt.ylabel(\"Frequency\")\n",
    "plt.title(\"Distribution of home prices\")"
   ]
  },
  {
   "cell_type": "code",
   "execution_count": null,
   "metadata": {},
   "outputs": [],
   "source": [
    "# Using Matplotlib to create boxplot of \"price_usd\"\n",
    "plt.boxplot(df[\"price_usd\"], vert=False)\n",
    "plt.xlabel(\"Price [USD]\")\n"
   ]
  },
  {
   "cell_type": "code",
   "execution_count": null,
   "metadata": {},
   "outputs": [],
   "source": [
    "# Declaring the variable `mean_price_by_state`\n",
    "mean_price_by_state = df.groupby(\"state\")[\"price_usd\"].mean().sort_values(ascending=False).round(2)\n",
    "mean_price_by_state.head()"
   ]
  },
  {
   "cell_type": "code",
   "execution_count": null,
   "metadata": {},
   "outputs": [],
   "source": [
    "# Creating a bar chart from `mean_price_by_state` using pandas\n",
    "mean_price_by_state.plot(\n",
    "    kind=\"bar\",\n",
    "    xlabel=\"State\",\n",
    "    ylabel=\"Price [USD]\",\n",
    "    title=\"Mean house price by state\"\n",
    ")\n"
   ]
  },
  {
   "cell_type": "code",
   "execution_count": null,
   "metadata": {},
   "outputs": [],
   "source": [
    "# Creating \"price_per_m2\" column\n",
    "df[\"price_per_m2\"] = df[\"price_usd\"] / df[\"area_m2\"]\n",
    "df.head()"
   ]
  },
  {
   "cell_type": "code",
   "execution_count": null,
   "metadata": {},
   "outputs": [],
   "source": [
    "# Grouping `df` by \"state\" & creating bar chart of \"price_per_m2\"\n",
    "(\n",
    "    df.groupby(\"state\")[\"price_per_m2\"].mean().sort_values(ascending=False)\n",
    "    .plot(\n",
    "        kind=\"bar\",\n",
    "        xlabel=\"State\",\n",
    "        ylabel=\"Mean Pric per M^2 [USD]\",\n",
    "        title=\"Mean house price per M^2by state\"\n",
    "    )\n",
    ")"
   ]
  },
  {
   "cell_type": "code",
   "execution_count": null,
   "metadata": {},
   "outputs": [],
   "source": [
    "# Creating a scatter plot of \"price_usd\" vs \"area_m2\"\n",
    "plt.scatter(x=df[\"area_m2\"], y=df[\"price_usd\"])\n",
    "plt.xlabel = \"Area [sq meters]\",\n",
    "plt.ylabel = \"price [USD]\"\n",
    "plt.tilte = \"Price vs Size\"\n"
   ]
  },
  {
   "cell_type": "code",
   "execution_count": null,
   "metadata": {},
   "outputs": [],
   "source": [
    "# Calculating the correlation of \"price_usd\" and \"area_m2\"\n",
    "p_correlation = df[\"area_m2\"].corr(df[\"price_usd\"])\n",
    "print(p_correlation)\n",
    "print(\"Correlation of 'area_m2' and 'price_usd' (all Mexico):\", p_correlation)\n"
   ]
  },
  {
   "cell_type": "code",
   "execution_count": null,
   "metadata": {},
   "outputs": [],
   "source": [
    "# Subsetting 'df' to include only observations from \"Morelos\"\n",
    "df_morelos = df[df[\"state\"] == \"Morelos\"]\n",
    "df_morelos.head()"
   ]
  },
  {
   "cell_type": "code",
   "execution_count": null,
   "metadata": {},
   "outputs": [],
   "source": [
    "# Creating scatter plot of \"price_usd\" vs \"area_m2\" in Morelos\n",
    "plt.scatter(x=df_morelos[\"area_m2\"], y=df_morelos[\"price_usd\"])\n"
   ]
  },
  {
   "cell_type": "code",
   "execution_count": null,
   "metadata": {},
   "outputs": [],
   "source": [
    "# Calculating correlation of \"price_usd\" and \"area_m2\" in `df_morelos`\n",
    "p_correlation = df_morelos[\"area_m2\"].corr(df_morelos[\"price_usd\"])\n",
    "print(\"Correlation of 'area_m2' and 'price_usd' (Morelos):\", p_correlation)"
   ]
  },
  {
   "cell_type": "code",
   "execution_count": null,
   "metadata": {},
   "outputs": [],
   "source": [
    "# Subset 'df' to include only observations from \"Distrito Federal\"\n",
    "df_mexico_city = df[df[\"state\"] == \"Distrito Federal\"]\n",
    "\n",
    "# Creating a scatter plot \"price_usd\" vs \"area_m2\" in Distrito Federal\n",
    "plt.scatter(df_mexico_city[\"area_m2\"], df_mexico_city[\"price_usd\"]) \n",
    "plt.xlabel(\"Area [sq meters]\") \n",
    "plt.ylabel(\"Price [USD]\")  \n",
    "plt.title(\"Mexico City: Price vs. Area\")  \n",
    "\n",
    "# Calculating correlation of \"price_usd\" and \"area_m2\" in `df_mexico_city`\n",
    "p_correlation = df_mexico_city[\"area_m2\"].corr(df_mexico_city[\"price_usd\"])\n",
    "\n",
    "print(\"Correlation of 'area_m2' and 'price_usd' (Mexico City):\", p_correlation)"
   ]
  },
  {
   "cell_type": "code",
   "execution_count": null,
   "metadata": {},
   "outputs": [],
   "source": [
    "#Looking at the scatter plot and correlation coefficient of 0.41, there is a weak relationship between size and price.One interpretation is that the relationship we see between size and price in many states doesn't hold true in the country's biggest and most economically powerful urban center because there are other factors that have a larger influence on price"
   ]
  }
 ],
 "metadata": {
  "kernelspec": {
   "display_name": "Python 3",
   "language": "python",
   "name": "python3"
  },
  "language_info": {
   "codemirror_mode": {
    "name": "ipython",
    "version": 3
   },
   "file_extension": ".py",
   "mimetype": "text/x-python",
   "name": "python",
   "nbconvert_exporter": "python",
   "pygments_lexer": "ipython3",
   "version": "3.8.5"
  }
 },
 "nbformat": 4,
 "nbformat_minor": 4
}
